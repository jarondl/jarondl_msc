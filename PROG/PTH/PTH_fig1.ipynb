{
 "cells": [
  {
   "cell_type": "markdown",
   "metadata": {},
   "source": [
    "PTH figure 1\n",
    "=======\n",
    "This notebook creates figure 1 of PTH from zero.\n"
   ]
  },
  {
   "cell_type": "code",
   "execution_count": 1,
   "metadata": {
    "collapsed": false
   },
   "outputs": [],
   "source": [
    "# Some boiler-plate to get us going\n",
    "%matplotlib inline\n",
    "from IPython.display import FileLink, FileLinks, display\n",
    "import numpy as np\n",
    "from numpy.random import RandomState\n",
    "from numpy import pi, sin\n",
    "from scipy import linalg\n",
    "from matplotlib import patches, rc, pyplot as plt\n",
    "latex_width_inch = 3.4 ## (aps single column)\n",
    "latex_height_inch = latex_width_inch * (np.sqrt(5)-1.0)/2.0 # golden ratio\n",
    "rc('figure', figsize=[2* latex_width_inch, latex_height_inch])\n",
    "rc('figure.subplot', left=0.1, right=0.95, top=0.9, bottom=0.2)\n",
    "rc('legend', fontsize='smaller')\n",
    "rc('xtick', labelsize='smaller')\n",
    "rc('ytick', labelsize='smaller')\n",
    "\n"
   ]
  },
  {
   "cell_type": "code",
   "execution_count": 2,
   "metadata": {
    "collapsed": false
   },
   "outputs": [],
   "source": [
    "# define some functions for later\n",
    "def band(N,bandwidth):\n",
    "    return np.triu(np.tri(N, k=bandwidth)*np.tri(N,k=bandwidth).T +\n",
    "                   np.tri(N, k=(bandwidth-N)) + np.tri(N,k=(bandwidth-N)).T\n",
    "                   , k=1)\n",
    "def symmetrize_and_conserve(in_matrix):\n",
    "    out = in_matrix + in_matrix.T\n",
    "    np.fill_diagonal(out, -out.sum(axis=1))\n",
    "    return out\n",
    "\n",
    "def sorted_eigh(in_matrix):\n",
    "    eigvals, eigvecs = linalg.eigh(in_matrix)\n",
    "    sort_indices = np.argsort(eigvals)\n",
    "    return eigvals[sort_indices[::-1]], eigvecs[:,sort_indices[::-1]]\n",
    "\n",
    "def pth_mat(N,b,ep):\n",
    "    prng = RandomState(7) # 7 was randomly selected https://xkcd.com/221/\n",
    "    A = np.zeros([N,N])\n",
    "    where_to_fill = band(N, b)\n",
    "    values = np.linspace(1-ep, 1+ep, where_to_fill.sum(axis=None))\n",
    "    A[where_to_fill==1] = prng.permutation(values)\n",
    "    return symmetrize_and_conserve(A)\n",
    "\n",
    "def pth_PN_and_ev(N,b,ep):\n",
    "    eival, eivec = sorted_eigh(pth_mat(N,b,ep))\n",
    "    PN = (eivec**4).sum(axis=0)**(-1)\n",
    "    return PN, eival\n",
    "    \n",
    "def get_branch_extents(b):\n",
    "    \"\"\" numerically find the branching extents\"\"\"\n",
    "    # quite ugly\n",
    "    Ns = 1000 # hope that's enough\n",
    "    x = np.linspace(1e-4,pi - 1e-4,Ns)\n",
    "    y = (1+2*b) - np.sin((0.5 + b)* x ) / np.sin(0.5*x)\n",
    "    q = np.diff(np.sign(np.diff(y))) # the sign flips of the derivatives.\n",
    "    \n",
    "    assert (np.count_nonzero(q)== b-1)\n",
    "    all_sign_flips = np.append(q.nonzero(),-1) # add the end at end\n",
    "    if b % 2 ==1:\n",
    "        #  add the 0 to first point if b is not even\n",
    "        all_sign_flips = np.insert(all_sign_flips,0,0)\n",
    "    return y[all_sign_flips]"
   ]
  },
  {
   "cell_type": "code",
   "execution_count": 3,
   "metadata": {
    "collapsed": true
   },
   "outputs": [],
   "source": [
    "# Actually run, and get the data!\n",
    "b = 5\n",
    "PN01, ev01 = pth_PN_and_ev(1000,b,0.1)\n",
    "PN05, ev05 = pth_PN_and_ev(1000,b,0.5)\n",
    "PN10, ev10 = pth_PN_and_ev(1000,b,1.0)"
   ]
  },
  {
   "cell_type": "code",
   "execution_count": 4,
   "metadata": {
    "collapsed": false
   },
   "outputs": [
    {
     "data": {
      "text/html": [
       "<a href='PTH_figure_01.eps' target='_blank'>PTH_figure_01.eps</a><br>"
      ],
      "text/plain": [
       "/data/jarondl/2git/PROJ/PROG/PTH/PTH_figure_01.eps"
      ]
     },
     "metadata": {},
     "output_type": "display_data"
    },
    {
     "data": {
      "text/html": [
       "<a href='PTH_figure_01.pdf' target='_blank'>PTH_figure_01.pdf</a><br>"
      ],
      "text/plain": [
       "/data/jarondl/2git/PROJ/PROG/PTH/PTH_figure_01.pdf"
      ]
     },
     "metadata": {},
     "output_type": "display_data"
    },
    {
     "data": {
      "image/png": "[encoded data removed]",
      "text/plain": [
       "<matplotlib.figure.Figure at 0x7f868e65af28>"
      ]
     },
     "metadata": {},
     "output_type": "display_data"
    }
   ],
   "source": [
    "# plot\n",
    "f, ax = plt.subplots(figsize=[2*latex_width_inch, latex_height_inch])\n",
    "ax.axhline(1000*2/3, ls=\"--\", color=\"grey\")\n",
    "ax.plot(-ev01, PN01,'.', label='0.1', markersize=2)\n",
    "ax.plot(-ev05, PN05,'.', label='0.5', markersize=2)\n",
    "ax.plot(-ev10, PN10,'.', label='1.0', markersize=2)\n",
    "      \n",
    "ax.set_yscale('log')\n",
    "ax.set_xlabel('$-\\lambda$')\n",
    "ax.set_ylabel('PN')\n",
    "ax.set_xlim(left=0)\n",
    "ax.legend()\n",
    "be = get_branch_extents(b)\n",
    "for q in range(b//2+1):\n",
    "    ax.add_patch(patches.FancyArrowPatch((be[2*q],2*1.3**q),(be[2*q+1],2*1.3**q),arrowstyle='|-|',zorder=100))\n",
    "f.savefig('PTH_figure_01.eps')\n",
    "f.savefig('PTH_figure_01.pdf')\n",
    "display(FileLink('PTH_figure_01.eps'))\n",
    "display(FileLink('PTH_figure_01.pdf'))"
   ]
  },
  {
   "cell_type": "markdown",
   "metadata": {},
   "source": [
    "How to deduce band extents?\n",
    "==========\n",
    "The _nominal_ eigenvalues are:\n",
    "$$ \\lambda_k = 2b-\\sum_{r=1}^b 2\\cos(rk) = (1+2b) - \\frac{\\sin\\left(\\left(\\frac{1}{2} + b\\right) k \\right)}{\\sin\\left(\\frac{1}{2}k\\right)} \\qquad,\\qquad   k = \\frac{\\pi}{N}\\cdot \\textrm{integer} $$\n",
    "\n",
    "Branching will occur whenever the derivative of this is zero. But that is a transcendental equation. So instad, let us numerically count the number of branches.\n"
   ]
  },
  {
   "cell_type": "code",
   "execution_count": 5,
   "metadata": {
    "collapsed": false
   },
   "outputs": [
    {
     "data": {
      "text/plain": [
       "array([ 15.88024531,  11.2286655 ,  14.33903524,  11.86980663,\n",
       "        14.02969693,  12.00000021])"
      ]
     },
     "execution_count": 5,
     "metadata": {},
     "output_type": "execute_result"
    },
    {
     "data": {
      "image/png": "[encoded data removed]",
      "text/plain": [
       "<matplotlib.figure.Figure at 0x7f868d887160>"
      ]
     },
     "metadata": {},
     "output_type": "display_data"
    }
   ],
   "source": [
    "x = np.linspace(0.01,pi,1000)\n",
    "bb = 6\n",
    "y = (1+2*b) - np.sin((0.5 + bb)* x ) / np.sin(0.5*x)\n",
    "z = np.diff(y)\n",
    "q = np.diff(np.sign(z))\n",
    "plt.plot(y[1:],z)\n",
    "np.append(np.insert(q.nonzero(), 0,0),1000)\n",
    "get_branch_extents(bb)"
   ]
  },
  {
   "cell_type": "code",
   "execution_count": 6,
   "metadata": {
    "collapsed": false
   },
   "outputs": [
    {
     "data": {
      "text/plain": [
       "[<matplotlib.lines.Line2D at 0x7f868d7d7dd8>]"
      ]
     },
     "execution_count": 6,
     "metadata": {},
     "output_type": "execute_result"
    },
    {
     "data": {
      "image/png": "[encoded data removed]",
      "text/plain": [
       "<matplotlib.figure.Figure at 0x7f868d7d7da0>"
      ]
     },
     "metadata": {},
     "output_type": "display_data"
    }
   ],
   "source": [
    "plt.plot(x, 1/(sin(x*bb)/sin(x*(bb+1))) - 1/(bb / (bb+1)))"
   ]
  }
 ],
 "metadata": {
  "kernelspec": {
   "display_name": "Python 3",
   "language": "python",
   "name": "python3"
  },
  "language_info": {
   "codemirror_mode": {
    "name": "ipython",
    "version": 3
   },
   "file_extension": ".py",
   "mimetype": "text/x-python",
   "name": "python",
   "nbconvert_exporter": "python",
   "pygments_lexer": "ipython3",
   "version": "3.5.0"
  }
 },
 "nbformat": 4,
 "nbformat_minor": 0
}
